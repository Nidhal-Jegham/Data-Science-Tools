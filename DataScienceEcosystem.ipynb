{
 "cells": [
  {
   "cell_type": "markdown",
   "id": "f94f0154-6cf6-461d-97e6-e39042dbf81f",
   "metadata": {},
   "source": [
    "# Data Science Tools and Ecosystem"
   ]
  },
  {
   "cell_type": "markdown",
   "id": "b02ab38d-f025-4584-a2c4-fc4d7675ad66",
   "metadata": {},
   "source": [
    "In this notebook, Data Science Tools and Ecosystem are summarized."
   ]
  },
  {
   "cell_type": "markdown",
   "id": "719ec57b-fc6e-4039-8b20-937ee428e0ec",
   "metadata": {},
   "source": [
    "Some of the popular languages that Data Scientists use are: \n",
    "1. R\n",
    "2. SQL\n",
    "3. Python"
   ]
  },
  {
   "cell_type": "markdown",
   "id": "e03e49a9-6c73-47b9-8485-f853e8e4f7e1",
   "metadata": {},
   "source": [
    "Some of the popular libraries that Data Scientists use are: \n",
    "1. ggplot\n",
    "2. numpy\n",
    "3. Pandas"
   ]
  },
  {
   "cell_type": "markdown",
   "id": "5f168bed-9749-4eff-8749-e25615190deb",
   "metadata": {},
   "source": [
    "|Data Science Tools|\n",
    "|---|\n",
    "|Jupyter Notebooks|\n",
    "|VS Studio |\n",
    "|R Studio|"
   ]
  },
  {
   "cell_type": "markdown",
   "id": "611eb337-a443-4519-aeb2-c08cf5ad56f5",
   "metadata": {},
   "source": [
    "### Below are a few examples of evaluating arithmetic expressions in Python."
   ]
  },
  {
   "cell_type": "markdown",
   "id": "4965f518-a2a1-44f8-a7cc-f7e46fae98fa",
   "metadata": {},
   "source": [
    "This a simple arithmetic expression to mutiply then add integers\n"
   ]
  },
  {
   "cell_type": "code",
   "execution_count": 7,
   "id": "eadacdfc-b63a-427f-a863-d4ac5cc0c231",
   "metadata": {},
   "outputs": [
    {
     "name": "stdout",
     "output_type": "stream",
     "text": [
      "17\n"
     ]
    }
   ],
   "source": [
    "print((3*4)+5)"
   ]
  },
  {
   "cell_type": "markdown",
   "id": "6f9cb1ff-bf33-42b6-8539-1dacf1f0e13a",
   "metadata": {},
   "source": [
    "This will convert 200 minutes to hours by diving by 60"
   ]
  },
  {
   "cell_type": "code",
   "execution_count": 10,
   "id": "6f4d104d-8655-4823-8910-356f349646b2",
   "metadata": {},
   "outputs": [
    {
     "name": "stdout",
     "output_type": "stream",
     "text": [
      "3.3333333333333335\n"
     ]
    }
   ],
   "source": [
    "MintoHr = 200/60\n",
    "print(MintoHr)"
   ]
  },
  {
   "cell_type": "markdown",
   "id": "75d34443-4b51-45ff-adf5-8e4bfac97749",
   "metadata": {},
   "source": [
    "**Objectives:**\n",
    "* R\n",
    "* Python\n",
    "* SQL"
   ]
  },
  {
   "cell_type": "markdown",
   "id": "e43e0534-5491-4d7f-b5ad-6f2da2c99d7e",
   "metadata": {},
   "source": [
    "## Author\n",
    "Nidhal Jegham"
   ]
  },
  {
   "cell_type": "code",
   "execution_count": null,
   "id": "53884a56-5862-41c7-a253-427f70f82eaa",
   "metadata": {},
   "outputs": [],
   "source": []
  }
 ],
 "metadata": {
  "kernelspec": {
   "display_name": "Python 3 (ipykernel)",
   "language": "python",
   "name": "python3"
  },
  "language_info": {
   "codemirror_mode": {
    "name": "ipython",
    "version": 3
   },
   "file_extension": ".py",
   "mimetype": "text/x-python",
   "name": "python",
   "nbconvert_exporter": "python",
   "pygments_lexer": "ipython3",
   "version": "3.9.10"
  }
 },
 "nbformat": 4,
 "nbformat_minor": 5
}
